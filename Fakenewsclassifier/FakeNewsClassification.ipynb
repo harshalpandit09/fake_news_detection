{
 "cells": [
  {
   "cell_type": "code",
   "execution_count": 1,
   "metadata": {
    "colab": {},
    "colab_type": "code",
    "id": "nPWLfB7QWkMq"
   },
   "outputs": [],
   "source": [
    "import pandas as pd"
   ]
  },
  {
   "cell_type": "code",
   "execution_count": 2,
   "metadata": {
    "colab": {},
    "colab_type": "code",
    "id": "GutugziOXehE"
   },
   "outputs": [
    {
     "name": "stdout",
     "output_type": "stream",
     "text": [
      "done\n"
     ]
    }
   ],
   "source": [
    "fake =pd.read_csv(\"Fake1.csv\")\n",
    "true=pd.read_csv(\"True1.csv\")\n",
    "print(\"done\")\n"
   ]
  },
  {
   "cell_type": "code",
   "execution_count": 3,
   "metadata": {
    "colab": {},
    "colab_type": "code",
    "id": "0Dr50ld7X0cj"
   },
   "outputs": [
    {
     "name": "stdout",
     "output_type": "stream",
     "text": [
      "done\n"
     ]
    }
   ],
   "source": [
    "fake.insert(4,\"actual_result\",\"0\")\n",
    "print(\"done\")"
   ]
  },
  {
   "cell_type": "code",
   "execution_count": 4,
   "metadata": {
    "colab": {},
    "colab_type": "code",
    "id": "cKJRiE1zo-zG"
   },
   "outputs": [
    {
     "name": "stdout",
     "output_type": "stream",
     "text": [
      "done\n"
     ]
    }
   ],
   "source": [
    "true.insert(4,\"actual_result\",\"1\")\n",
    "print(\"done\")"
   ]
  },
  {
   "cell_type": "code",
   "execution_count": 5,
   "metadata": {
    "colab": {},
    "colab_type": "code",
    "id": "Vdbxt2-OpJMB"
   },
   "outputs": [],
   "source": [
    "combine=pd.concat([true,fake])"
   ]
  },
  {
   "cell_type": "code",
   "execution_count": 6,
   "metadata": {
    "colab": {},
    "colab_type": "code",
    "id": "aJYc5pggveKq"
   },
   "outputs": [],
   "source": [
    "from sklearn.utils import shuffle"
   ]
  },
  {
   "cell_type": "code",
   "execution_count": 7,
   "metadata": {
    "colab": {},
    "colab_type": "code",
    "id": "koI51oSfwqo_"
   },
   "outputs": [],
   "source": [
    "combine=shuffle(combine)"
   ]
  },
  {
   "cell_type": "code",
   "execution_count": 8,
   "metadata": {
    "colab": {},
    "colab_type": "code",
    "id": "DlHNwdAYwui4"
   },
   "outputs": [],
   "source": [
    "combine=shuffle(combine)"
   ]
  },
  {
   "cell_type": "code",
   "execution_count": 9,
   "metadata": {
    "colab": {},
    "colab_type": "code",
    "id": "qJMCDLrXxI_H"
   },
   "outputs": [],
   "source": [
    " combine.to_csv('shuffled_dataset.csv')"
   ]
  },
  {
   "cell_type": "code",
   "execution_count": null,
   "metadata": {
    "colab": {},
    "colab_type": "code",
    "id": "RygwNXS8yAFt"
   },
   "outputs": [],
   "source": []
  },
  {
   "cell_type": "code",
   "execution_count": 11,
   "metadata": {
    "colab": {
     "base_uri": "https://localhost:8080/",
     "height": 589
    },
    "colab_type": "code",
    "executionInfo": {
     "elapsed": 878,
     "status": "ok",
     "timestamp": 1589266257208,
     "user": {
      "displayName": "Harshal Pandit",
      "photoUrl": "https://lh3.googleusercontent.com/a-/AOh14Gj6rsfJL_1bndAgkueHOtctWLgRa09tci-U63uvcA=s64",
      "userId": "09205942419468523895"
     },
     "user_tz": -330
    },
    "id": "W4gunYZBulxh",
    "outputId": "f9791d3b-bc82-4a8f-810c-3327ce71a0f0"
   },
   "outputs": [],
   "source": [
    "df=pd.read_csv('Shuffled_dataset.csv')"
   ]
  },
  {
   "cell_type": "code",
   "execution_count": 13,
   "metadata": {},
   "outputs": [
    {
     "data": {
      "text/html": [
       "<div>\n",
       "<style scoped>\n",
       "    .dataframe tbody tr th:only-of-type {\n",
       "        vertical-align: middle;\n",
       "    }\n",
       "\n",
       "    .dataframe tbody tr th {\n",
       "        vertical-align: top;\n",
       "    }\n",
       "\n",
       "    .dataframe thead th {\n",
       "        text-align: right;\n",
       "    }\n",
       "</style>\n",
       "<table border=\"1\" class=\"dataframe\">\n",
       "  <thead>\n",
       "    <tr style=\"text-align: right;\">\n",
       "      <th></th>\n",
       "      <th>Unnamed: 0</th>\n",
       "      <th>title</th>\n",
       "      <th>text</th>\n",
       "      <th>subject</th>\n",
       "      <th>date</th>\n",
       "      <th>actual_result</th>\n",
       "    </tr>\n",
       "  </thead>\n",
       "  <tbody>\n",
       "    <tr>\n",
       "      <td>0</td>\n",
       "      <td>82</td>\n",
       "      <td>Senate parliamentarian rules against tax bill ...</td>\n",
       "      <td>WASHINGTON (Reuters) - The U.S. Senate parliam...</td>\n",
       "      <td>politicsNews</td>\n",
       "      <td>19-Dec-17</td>\n",
       "      <td>1</td>\n",
       "    </tr>\n",
       "    <tr>\n",
       "      <td>1</td>\n",
       "      <td>73</td>\n",
       "      <td>WATCH: Retired Alabama Cop: We Were Told To K...</td>\n",
       "      <td>It seems that Republican candidate for Attorne...</td>\n",
       "      <td>News</td>\n",
       "      <td>22-Nov-17</td>\n",
       "      <td>0</td>\n",
       "    </tr>\n",
       "    <tr>\n",
       "      <td>2</td>\n",
       "      <td>150</td>\n",
       "      <td>White House says will work with Rubio on child...</td>\n",
       "      <td>WASHINGTON (Reuters) - The White House said on...</td>\n",
       "      <td>politicsNews</td>\n",
       "      <td>14-Dec-17</td>\n",
       "      <td>1</td>\n",
       "    </tr>\n",
       "    <tr>\n",
       "      <td>3</td>\n",
       "      <td>117</td>\n",
       "      <td>Trump Seething After Humiliating Virginia Ele...</td>\n",
       "      <td>Well, that didn t take long.After weeks of sup...</td>\n",
       "      <td>News</td>\n",
       "      <td>8-Nov-17</td>\n",
       "      <td>0</td>\n",
       "    </tr>\n",
       "    <tr>\n",
       "      <td>4</td>\n",
       "      <td>197</td>\n",
       "      <td>Trump signs into law U.S. government ban on Ka...</td>\n",
       "      <td>WASHINGTON (Reuters) - President Donald Trump ...</td>\n",
       "      <td>politicsNews</td>\n",
       "      <td>12-Dec-17</td>\n",
       "      <td>1</td>\n",
       "    </tr>\n",
       "  </tbody>\n",
       "</table>\n",
       "</div>"
      ],
      "text/plain": [
       "   Unnamed: 0                                              title  \\\n",
       "0          82  Senate parliamentarian rules against tax bill ...   \n",
       "1          73   WATCH: Retired Alabama Cop: We Were Told To K...   \n",
       "2         150  White House says will work with Rubio on child...   \n",
       "3         117   Trump Seething After Humiliating Virginia Ele...   \n",
       "4         197  Trump signs into law U.S. government ban on Ka...   \n",
       "\n",
       "                                                text       subject       date  \\\n",
       "0  WASHINGTON (Reuters) - The U.S. Senate parliam...  politicsNews  19-Dec-17   \n",
       "1  It seems that Republican candidate for Attorne...          News  22-Nov-17   \n",
       "2  WASHINGTON (Reuters) - The White House said on...  politicsNews  14-Dec-17   \n",
       "3  Well, that didn t take long.After weeks of sup...          News   8-Nov-17   \n",
       "4  WASHINGTON (Reuters) - President Donald Trump ...  politicsNews  12-Dec-17   \n",
       "\n",
       "   actual_result  \n",
       "0              1  \n",
       "1              0  \n",
       "2              1  \n",
       "3              0  \n",
       "4              1  "
      ]
     },
     "execution_count": 13,
     "metadata": {},
     "output_type": "execute_result"
    }
   ],
   "source": [
    "df.head()"
   ]
  },
  {
   "cell_type": "code",
   "execution_count": 14,
   "metadata": {},
   "outputs": [],
   "source": [
    "df=df.dropna()"
   ]
  },
  {
   "cell_type": "code",
   "execution_count": 16,
   "metadata": {},
   "outputs": [],
   "source": [
    "X=df.drop('actual_result',axis=1)"
   ]
  },
  {
   "cell_type": "code",
   "execution_count": 19,
   "metadata": {},
   "outputs": [],
   "source": [
    "y=df['actual_result']"
   ]
  },
  {
   "cell_type": "code",
   "execution_count": 20,
   "metadata": {},
   "outputs": [
    {
     "data": {
      "text/plain": [
       "(398, 5)"
      ]
     },
     "execution_count": 20,
     "metadata": {},
     "output_type": "execute_result"
    }
   ],
   "source": [
    "X.shape"
   ]
  },
  {
   "cell_type": "code",
   "execution_count": null,
   "metadata": {},
   "outputs": [],
   "source": [
    "y.shape"
   ]
  },
  {
   "cell_type": "code",
   "execution_count": null,
   "metadata": {},
   "outputs": [],
   "source": [
    "!pip install tensorflow"
   ]
  },
  {
   "cell_type": "code",
   "execution_count": null,
   "metadata": {},
   "outputs": [],
   "source": []
  },
  {
   "cell_type": "code",
   "execution_count": null,
   "metadata": {},
   "outputs": [],
   "source": []
  },
  {
   "cell_type": "code",
   "execution_count": null,
   "metadata": {},
   "outputs": [],
   "source": []
  },
  {
   "cell_type": "code",
   "execution_count": 18,
   "metadata": {
    "colab": {
     "base_uri": "https://localhost:8080/",
     "height": 102
    },
    "colab_type": "code",
    "executionInfo": {
     "elapsed": 1964,
     "status": "ok",
     "timestamp": 1589266262013,
     "user": {
      "displayName": "Harshal Pandit",
      "photoUrl": "https://lh3.googleusercontent.com/a-/AOh14Gj6rsfJL_1bndAgkueHOtctWLgRa09tci-U63uvcA=s64",
      "userId": "09205942419468523895"
     },
     "user_tz": -330
    },
    "id": "FDlfDS2G2_1f",
    "outputId": "ebc9c795-d17e-45d6-95be-8b13545df794"
   },
   "outputs": [
    {
     "name": "stderr",
     "output_type": "stream",
     "text": [
      "[nltk_data] Downloading package stopwords to\n",
      "[nltk_data]     C:\\Users\\Ashu\\AppData\\Roaming\\nltk_data...\n",
      "[nltk_data]   Unzipping corpora\\stopwords.zip.\n",
      "[nltk_data] Downloading package wordnet to\n",
      "[nltk_data]     C:\\Users\\Ashu\\AppData\\Roaming\\nltk_data...\n",
      "[nltk_data]   Package wordnet is already up-to-date!\n"
     ]
    },
    {
     "data": {
      "text/plain": [
       "True"
      ]
     },
     "execution_count": 18,
     "metadata": {},
     "output_type": "execute_result"
    }
   ],
   "source": [
    "import nltk\n",
    "from nltk.corpus import stopwords\n",
    "from nltk.tokenize import RegexpTokenizer\n",
    "from nltk.stem import WordNetLemmatizer\n",
    "from nltk.stem.porter import PorterStemmer\n",
    "import string\n",
    "nltk.download('stopwords')\n",
    "nltk.download('wordnet')"
   ]
  },
  {
   "cell_type": "code",
   "execution_count": 19,
   "metadata": {
    "colab": {},
    "colab_type": "code",
    "id": "6_6UhaU17uej"
   },
   "outputs": [],
   "source": [
    "def remove_punctuations(text):\n",
    "  no_punct= \"\".join([c for c in text if c not in string.punctuation])\n",
    "  return no_punct"
   ]
  },
  {
   "cell_type": "code",
   "execution_count": 20,
   "metadata": {
    "colab": {},
    "colab_type": "code",
    "id": "w5gsp_b77uxk"
   },
   "outputs": [],
   "source": [
    "combine['text']=combine['text'].apply(lambda x: remove_punctuations(x))"
   ]
  },
  {
   "cell_type": "code",
   "execution_count": 22,
   "metadata": {
    "colab": {
     "base_uri": "https://localhost:8080/",
     "height": 204
    },
    "colab_type": "code",
    "executionInfo": {
     "elapsed": 1612,
     "status": "ok",
     "timestamp": 1589266268789,
     "user": {
      "displayName": "Harshal Pandit",
      "photoUrl": "https://lh3.googleusercontent.com/a-/AOh14Gj6rsfJL_1bndAgkueHOtctWLgRa09tci-U63uvcA=s64",
      "userId": "09205942419468523895"
     },
     "user_tz": -330
    },
    "id": "6Q4iz65u7u_B",
    "outputId": "49a9222e-b706-4cdd-dd53-fae70a66d88a"
   },
   "outputs": [
    {
     "data": {
      "text/plain": [
       "142    WASHINGTON Reuters  Republican governors from ...\n",
       "102    WASHINGTON Reuters  Republican US Senator Susa...\n",
       "75     Gene Simmons the 68yearold Kiss bassist and co...\n",
       "145    AUSTIN TexasWASHINGTON Reuters  US Republican ...\n",
       "9      Just when you might have thought we d get a br...\n",
       "Name: text, dtype: object"
      ]
     },
     "execution_count": 22,
     "metadata": {},
     "output_type": "execute_result"
    }
   ],
   "source": [
    "combine['text'].tail()"
   ]
  },
  {
   "cell_type": "code",
   "execution_count": 23,
   "metadata": {
    "colab": {},
    "colab_type": "code",
    "id": "76n4DVQI7voL"
   },
   "outputs": [],
   "source": [
    "tokenizer=RegexpTokenizer(r'\\w+')"
   ]
  },
  {
   "cell_type": "code",
   "execution_count": 24,
   "metadata": {
    "colab": {},
    "colab_type": "code",
    "id": "f9VUuzXk9A5Y"
   },
   "outputs": [],
   "source": [
    "combine['text']=combine['text'].apply(lambda x: tokenizer.tokenize(x.lower()))"
   ]
  },
  {
   "cell_type": "code",
   "execution_count": 25,
   "metadata": {
    "colab": {
     "base_uri": "https://localhost:8080/",
     "height": 221
    },
    "colab_type": "code",
    "executionInfo": {
     "elapsed": 810,
     "status": "ok",
     "timestamp": 1589266275336,
     "user": {
      "displayName": "Harshal Pandit",
      "photoUrl": "https://lh3.googleusercontent.com/a-/AOh14Gj6rsfJL_1bndAgkueHOtctWLgRa09tci-U63uvcA=s64",
      "userId": "09205942419468523895"
     },
     "user_tz": -330
    },
    "id": "K07WRwaa9BCv",
    "outputId": "4fc09ee3-b801-4cc7-85a6-b1615fb48b21"
   },
   "outputs": [
    {
     "data": {
      "text/plain": [
       "16     [washington, reuters, a, georgianamerican, bus...\n",
       "190    [if, you, haven, t, noticed, no, one, associat...\n",
       "158    [reuters, kentucky, state, representative, dan...\n",
       "49     [washington, reuters, the, leaders, of, the, u...\n",
       "131    [this, maniac, wants, the, handmaid, s, tale, ...\n",
       "                             ...                        \n",
       "142    [washington, reuters, republican, governors, f...\n",
       "102    [washington, reuters, republican, us, senator,...\n",
       "75     [gene, simmons, the, 68yearold, kiss, bassist,...\n",
       "145    [austin, texaswashington, reuters, us, republi...\n",
       "9      [just, when, you, might, have, thought, we, d,...\n",
       "Name: text, Length: 398, dtype: object"
      ]
     },
     "execution_count": 25,
     "metadata": {},
     "output_type": "execute_result"
    }
   ],
   "source": [
    "combine.text"
   ]
  },
  {
   "cell_type": "code",
   "execution_count": null,
   "metadata": {
    "colab": {},
    "colab_type": "code",
    "id": "0a_Q4coG9BQh"
   },
   "outputs": [],
   "source": []
  },
  {
   "cell_type": "code",
   "execution_count": null,
   "metadata": {
    "colab": {},
    "colab_type": "code",
    "id": "ZRqygdFK9BZN"
   },
   "outputs": [],
   "source": []
  },
  {
   "cell_type": "code",
   "execution_count": 26,
   "metadata": {
    "colab": {},
    "colab_type": "code",
    "id": "ZAgVooYnu8Sl"
   },
   "outputs": [],
   "source": [
    "def remove_stopwords(text):\n",
    "  words=[w for w in text if w not in stopwords.words('english')]\n",
    "  return words"
   ]
  },
  {
   "cell_type": "code",
   "execution_count": null,
   "metadata": {
    "colab": {},
    "colab_type": "code",
    "id": "pS9cTm2645tO"
   },
   "outputs": [],
   "source": []
  },
  {
   "cell_type": "code",
   "execution_count": 27,
   "metadata": {
    "colab": {},
    "colab_type": "code",
    "id": "NUKsYa4Lv1yt"
   },
   "outputs": [],
   "source": [
    "combine['text']=combine['text'].apply(lambda x: remove_stopwords(x))\n"
   ]
  },
  {
   "cell_type": "code",
   "execution_count": 28,
   "metadata": {
    "colab": {
     "base_uri": "https://localhost:8080/",
     "height": 221
    },
    "colab_type": "code",
    "executionInfo": {
     "elapsed": 1498,
     "status": "ok",
     "timestamp": 1589266303700,
     "user": {
      "displayName": "Harshal Pandit",
      "photoUrl": "https://lh3.googleusercontent.com/a-/AOh14Gj6rsfJL_1bndAgkueHOtctWLgRa09tci-U63uvcA=s64",
      "userId": "09205942419468523895"
     },
     "user_tz": -330
    },
    "id": "sGTh38V60n39",
    "outputId": "c04f563a-b721-4d85-8699-db9758fe7421"
   },
   "outputs": [
    {
     "data": {
      "text/plain": [
       "16     [washington, reuters, georgianamerican, busine...\n",
       "190    [noticed, one, associated, trump, administrati...\n",
       "158    [reuters, kentucky, state, representative, dan...\n",
       "49     [washington, reuters, leaders, us, intelligenc...\n",
       "131    [maniac, wants, handmaid, tale, become, realit...\n",
       "                             ...                        \n",
       "142    [washington, reuters, republican, governors, f...\n",
       "102    [washington, reuters, republican, us, senator,...\n",
       "75     [gene, simmons, 68yearold, kiss, bassist, cole...\n",
       "145    [austin, texaswashington, reuters, us, republi...\n",
       "9      [might, thought, get, break, watching, people,...\n",
       "Name: text, Length: 398, dtype: object"
      ]
     },
     "execution_count": 28,
     "metadata": {},
     "output_type": "execute_result"
    }
   ],
   "source": [
    "combine['text']"
   ]
  },
  {
   "cell_type": "code",
   "execution_count": 30,
   "metadata": {
    "colab": {},
    "colab_type": "code",
    "id": "rhsizIufv3Xi"
   },
   "outputs": [],
   "source": [
    "lemmatizer=WordNetLemmatizer()\n",
    "def word_lemmatizer(text):\n",
    "  lem_text=[lemmatizer.lemmatize(i) for i in text]\n",
    "  return lem_text "
   ]
  },
  {
   "cell_type": "code",
   "execution_count": 31,
   "metadata": {
    "colab": {
     "base_uri": "https://localhost:8080/",
     "height": 221
    },
    "colab_type": "code",
    "executionInfo": {
     "elapsed": 3501,
     "status": "ok",
     "timestamp": 1589266310245,
     "user": {
      "displayName": "Harshal Pandit",
      "photoUrl": "https://lh3.googleusercontent.com/a-/AOh14Gj6rsfJL_1bndAgkueHOtctWLgRa09tci-U63uvcA=s64",
      "userId": "09205942419468523895"
     },
     "user_tz": -330
    },
    "id": "T9JQE9Y6wl3S",
    "outputId": "659a2ea3-dc42-4b6b-f2c4-d717ac9f6230"
   },
   "outputs": [
    {
     "data": {
      "text/plain": [
       "16     [washington, reuters, georgianamerican, busine...\n",
       "190    [noticed, one, associated, trump, administrati...\n",
       "158    [reuters, kentucky, state, representative, dan...\n",
       "49     [washington, reuters, leader, u, intelligence,...\n",
       "131    [maniac, want, handmaid, tale, become, reality...\n",
       "                             ...                        \n",
       "142    [washington, reuters, republican, governor, fo...\n",
       "102    [washington, reuters, republican, u, senator, ...\n",
       "75     [gene, simmons, 68yearold, kiss, bassist, cole...\n",
       "145    [austin, texaswashington, reuters, u, republic...\n",
       "9      [might, thought, get, break, watching, people,...\n",
       "Name: text, Length: 398, dtype: object"
      ]
     },
     "execution_count": 31,
     "metadata": {},
     "output_type": "execute_result"
    }
   ],
   "source": [
    "combine['text'].apply(lambda x: word_lemmatizer(x))\n"
   ]
  },
  {
   "cell_type": "code",
   "execution_count": 32,
   "metadata": {
    "colab": {},
    "colab_type": "code",
    "id": "08hdR6hSw2Dn"
   },
   "outputs": [],
   "source": [
    "stemmer= PorterStemmer()"
   ]
  },
  {
   "cell_type": "code",
   "execution_count": 33,
   "metadata": {
    "colab": {},
    "colab_type": "code",
    "id": "O_od8bmCzmpI"
   },
   "outputs": [],
   "source": [
    "def word_stemmer(text):\n",
    "  stem_text=\" \".join([stemmer.stem(i) for i in text])\n",
    "  return stem_text"
   ]
  },
  {
   "cell_type": "code",
   "execution_count": 34,
   "metadata": {
    "colab": {},
    "colab_type": "code",
    "id": "sSY69-PGAmif"
   },
   "outputs": [],
   "source": [
    "combine['text']=combine['text'].apply(lambda x: word_stemmer(x))\n"
   ]
  },
  {
   "cell_type": "code",
   "execution_count": 35,
   "metadata": {
    "colab": {
     "base_uri": "https://localhost:8080/",
     "height": 221
    },
    "colab_type": "code",
    "executionInfo": {
     "elapsed": 864,
     "status": "ok",
     "timestamp": 1589266320294,
     "user": {
      "displayName": "Harshal Pandit",
      "photoUrl": "https://lh3.googleusercontent.com/a-/AOh14Gj6rsfJL_1bndAgkueHOtctWLgRa09tci-U63uvcA=s64",
      "userId": "09205942419468523895"
     },
     "user_tz": -330
    },
    "id": "WFdugOngAv0X",
    "outputId": "eb6cfdbe-9daa-4ed4-b548-aeb730af0ebe"
   },
   "outputs": [
    {
     "data": {
      "text/plain": [
       "16     washington reuter georgianamerican businessman...\n",
       "190    notic one associ trump administr includ donald...\n",
       "158    reuter kentucki state repres dan johnson face ...\n",
       "49     washington reuter leader us intellig commun th...\n",
       "131    maniac want handmaid tale becom realityabort p...\n",
       "                             ...                        \n",
       "142    washington reuter republican governor four us ...\n",
       "102    washington reuter republican us senat susan co...\n",
       "75     gene simmon 68yearold kiss bassist colead sing...\n",
       "145    austin texaswashington reuter us republican re...\n",
       "9      might thought get break watch peopl kiss donal...\n",
       "Name: text, Length: 398, dtype: object"
      ]
     },
     "execution_count": 35,
     "metadata": {},
     "output_type": "execute_result"
    }
   ],
   "source": [
    "combine['text']"
   ]
  },
  {
   "cell_type": "code",
   "execution_count": 36,
   "metadata": {
    "colab": {
     "base_uri": "https://localhost:8080/",
     "height": 529
    },
    "colab_type": "code",
    "executionInfo": {
     "elapsed": 1551,
     "status": "ok",
     "timestamp": 1589266323653,
     "user": {
      "displayName": "Harshal Pandit",
      "photoUrl": "https://lh3.googleusercontent.com/a-/AOh14Gj6rsfJL_1bndAgkueHOtctWLgRa09tci-U63uvcA=s64",
      "userId": "09205942419468523895"
     },
     "user_tz": -330
    },
    "id": "PtsYeWRBAxr7",
    "outputId": "507e8e03-e819-48fa-c78b-2535fa4f1b4c"
   },
   "outputs": [
    {
     "data": {
      "text/html": [
       "<div>\n",
       "<style scoped>\n",
       "    .dataframe tbody tr th:only-of-type {\n",
       "        vertical-align: middle;\n",
       "    }\n",
       "\n",
       "    .dataframe tbody tr th {\n",
       "        vertical-align: top;\n",
       "    }\n",
       "\n",
       "    .dataframe thead th {\n",
       "        text-align: right;\n",
       "    }\n",
       "</style>\n",
       "<table border=\"1\" class=\"dataframe\">\n",
       "  <thead>\n",
       "    <tr style=\"text-align: right;\">\n",
       "      <th></th>\n",
       "      <th>title</th>\n",
       "      <th>text</th>\n",
       "      <th>subject</th>\n",
       "      <th>date</th>\n",
       "      <th>actual_result</th>\n",
       "    </tr>\n",
       "  </thead>\n",
       "  <tbody>\n",
       "    <tr>\n",
       "      <td>16</td>\n",
       "      <td>U.S. lawmakers question businessman at 2016 Tr...</td>\n",
       "      <td>washington reuter georgianamerican businessman...</td>\n",
       "      <td>politicsNews</td>\n",
       "      <td>27-Dec-17</td>\n",
       "      <td>1</td>\n",
       "    </tr>\n",
       "    <tr>\n",
       "      <td>190</td>\n",
       "      <td>Melania Trump Hit With SERIOUS Side-Eye After...</td>\n",
       "      <td>notic one associ trump administr includ donald...</td>\n",
       "      <td>News</td>\n",
       "      <td>24-Oct-17</td>\n",
       "      <td>0</td>\n",
       "    </tr>\n",
       "    <tr>\n",
       "      <td>158</td>\n",
       "      <td>Kentucky lawmaker a 'probable suicide' amid se...</td>\n",
       "      <td>reuter kentucki state repres dan johnson face ...</td>\n",
       "      <td>politicsNews</td>\n",
       "      <td>14-Dec-17</td>\n",
       "      <td>1</td>\n",
       "    </tr>\n",
       "    <tr>\n",
       "      <td>49</td>\n",
       "      <td>Spy chiefs pressure Congress to renew expiring...</td>\n",
       "      <td>washington reuter leader us intellig commun th...</td>\n",
       "      <td>politicsNews</td>\n",
       "      <td>21-Dec-17</td>\n",
       "      <td>1</td>\n",
       "    </tr>\n",
       "    <tr>\n",
       "      <td>131</td>\n",
       "      <td>WATCH: Republican Lawmaker Claims Forcing Wom...</td>\n",
       "      <td>maniac want handmaid tale becom realityabort p...</td>\n",
       "      <td>News</td>\n",
       "      <td>6-Nov-17</td>\n",
       "      <td>0</td>\n",
       "    </tr>\n",
       "    <tr>\n",
       "      <td>197</td>\n",
       "      <td>Trump And John Kelly Just Got RIPPED APART By...</td>\n",
       "      <td>donald trump disgrac team deserv throttl horre...</td>\n",
       "      <td>News</td>\n",
       "      <td>21-Oct-17</td>\n",
       "      <td>0</td>\n",
       "    </tr>\n",
       "    <tr>\n",
       "      <td>15</td>\n",
       "      <td>Tone Deaf Trump: Congrats Rep. Scalise On Los...</td>\n",
       "      <td>donald trump sign gop tax scam law cours meant...</td>\n",
       "      <td>News</td>\n",
       "      <td>20-Dec-17</td>\n",
       "      <td>0</td>\n",
       "    </tr>\n",
       "    <tr>\n",
       "      <td>42</td>\n",
       "      <td>U.S. court rejects Trump bid to stop transgend...</td>\n",
       "      <td>new york reuter feder appeal court virginia th...</td>\n",
       "      <td>politicsNews</td>\n",
       "      <td>21-Dec-17</td>\n",
       "      <td>1</td>\n",
       "    </tr>\n",
       "    <tr>\n",
       "      <td>192</td>\n",
       "      <td>GOP Senate Candidate Says Kids Were Murdered ...</td>\n",
       "      <td>like christ like christian christian unlik chr...</td>\n",
       "      <td>News</td>\n",
       "      <td>23-Oct-17</td>\n",
       "      <td>0</td>\n",
       "    </tr>\n",
       "    <tr>\n",
       "      <td>97</td>\n",
       "      <td>Trump on Twitter (Dec 18) - Congressional Race...</td>\n",
       "      <td>follow statement post verifi twitter account u...</td>\n",
       "      <td>politicsNews</td>\n",
       "      <td>18-Dec-17</td>\n",
       "      <td>1</td>\n",
       "    </tr>\n",
       "  </tbody>\n",
       "</table>\n",
       "</div>"
      ],
      "text/plain": [
       "                                                 title  \\\n",
       "16   U.S. lawmakers question businessman at 2016 Tr...   \n",
       "190   Melania Trump Hit With SERIOUS Side-Eye After...   \n",
       "158  Kentucky lawmaker a 'probable suicide' amid se...   \n",
       "49   Spy chiefs pressure Congress to renew expiring...   \n",
       "131   WATCH: Republican Lawmaker Claims Forcing Wom...   \n",
       "197   Trump And John Kelly Just Got RIPPED APART By...   \n",
       "15    Tone Deaf Trump: Congrats Rep. Scalise On Los...   \n",
       "42   U.S. court rejects Trump bid to stop transgend...   \n",
       "192   GOP Senate Candidate Says Kids Were Murdered ...   \n",
       "97   Trump on Twitter (Dec 18) - Congressional Race...   \n",
       "\n",
       "                                                  text       subject  \\\n",
       "16   washington reuter georgianamerican businessman...  politicsNews   \n",
       "190  notic one associ trump administr includ donald...          News   \n",
       "158  reuter kentucki state repres dan johnson face ...  politicsNews   \n",
       "49   washington reuter leader us intellig commun th...  politicsNews   \n",
       "131  maniac want handmaid tale becom realityabort p...          News   \n",
       "197  donald trump disgrac team deserv throttl horre...          News   \n",
       "15   donald trump sign gop tax scam law cours meant...          News   \n",
       "42   new york reuter feder appeal court virginia th...  politicsNews   \n",
       "192  like christ like christian christian unlik chr...          News   \n",
       "97   follow statement post verifi twitter account u...  politicsNews   \n",
       "\n",
       "          date actual_result  \n",
       "16   27-Dec-17             1  \n",
       "190  24-Oct-17             0  \n",
       "158  14-Dec-17             1  \n",
       "49   21-Dec-17             1  \n",
       "131   6-Nov-17             0  \n",
       "197  21-Oct-17             0  \n",
       "15   20-Dec-17             0  \n",
       "42   21-Dec-17             1  \n",
       "192  23-Oct-17             0  \n",
       "97   18-Dec-17             1  "
      ]
     },
     "execution_count": 36,
     "metadata": {},
     "output_type": "execute_result"
    }
   ],
   "source": [
    "combine.head(10)"
   ]
  },
  {
   "cell_type": "code",
   "execution_count": 38,
   "metadata": {
    "colab": {},
    "colab_type": "code",
    "id": "koea0oF8oW8X"
   },
   "outputs": [
    {
     "data": {
      "text/html": [
       "<div>\n",
       "<style scoped>\n",
       "    .dataframe tbody tr th:only-of-type {\n",
       "        vertical-align: middle;\n",
       "    }\n",
       "\n",
       "    .dataframe tbody tr th {\n",
       "        vertical-align: top;\n",
       "    }\n",
       "\n",
       "    .dataframe thead th {\n",
       "        text-align: right;\n",
       "    }\n",
       "</style>\n",
       "<table border=\"1\" class=\"dataframe\">\n",
       "  <thead>\n",
       "    <tr style=\"text-align: right;\">\n",
       "      <th></th>\n",
       "      <th>title</th>\n",
       "      <th>text</th>\n",
       "      <th>subject</th>\n",
       "      <th>date</th>\n",
       "      <th>actual_result</th>\n",
       "    </tr>\n",
       "  </thead>\n",
       "  <tbody>\n",
       "    <tr>\n",
       "      <td>16</td>\n",
       "      <td>U.S. lawmakers question businessman at 2016 Tr...</td>\n",
       "      <td>washington reuter georgianamerican businessman...</td>\n",
       "      <td>politicsNews</td>\n",
       "      <td>27-Dec-17</td>\n",
       "      <td>1</td>\n",
       "    </tr>\n",
       "    <tr>\n",
       "      <td>190</td>\n",
       "      <td>Melania Trump Hit With SERIOUS Side-Eye After...</td>\n",
       "      <td>notic one associ trump administr includ donald...</td>\n",
       "      <td>News</td>\n",
       "      <td>24-Oct-17</td>\n",
       "      <td>0</td>\n",
       "    </tr>\n",
       "    <tr>\n",
       "      <td>158</td>\n",
       "      <td>Kentucky lawmaker a 'probable suicide' amid se...</td>\n",
       "      <td>reuter kentucki state repres dan johnson face ...</td>\n",
       "      <td>politicsNews</td>\n",
       "      <td>14-Dec-17</td>\n",
       "      <td>1</td>\n",
       "    </tr>\n",
       "    <tr>\n",
       "      <td>49</td>\n",
       "      <td>Spy chiefs pressure Congress to renew expiring...</td>\n",
       "      <td>washington reuter leader us intellig commun th...</td>\n",
       "      <td>politicsNews</td>\n",
       "      <td>21-Dec-17</td>\n",
       "      <td>1</td>\n",
       "    </tr>\n",
       "    <tr>\n",
       "      <td>131</td>\n",
       "      <td>WATCH: Republican Lawmaker Claims Forcing Wom...</td>\n",
       "      <td>maniac want handmaid tale becom realityabort p...</td>\n",
       "      <td>News</td>\n",
       "      <td>6-Nov-17</td>\n",
       "      <td>0</td>\n",
       "    </tr>\n",
       "    <tr>\n",
       "      <td>...</td>\n",
       "      <td>...</td>\n",
       "      <td>...</td>\n",
       "      <td>...</td>\n",
       "      <td>...</td>\n",
       "      <td>...</td>\n",
       "    </tr>\n",
       "    <tr>\n",
       "      <td>142</td>\n",
       "      <td>Republican governors meet with Pence over NAFT...</td>\n",
       "      <td>washington reuter republican governor four us ...</td>\n",
       "      <td>politicsNews</td>\n",
       "      <td>14-Dec-17</td>\n",
       "      <td>1</td>\n",
       "    </tr>\n",
       "    <tr>\n",
       "      <td>102</td>\n",
       "      <td>Republican Senator Collins says she will vote ...</td>\n",
       "      <td>washington reuter republican us senat susan co...</td>\n",
       "      <td>politicsNews</td>\n",
       "      <td>18-Dec-17</td>\n",
       "      <td>1</td>\n",
       "    </tr>\n",
       "    <tr>\n",
       "      <td>75</td>\n",
       "      <td>Fox News Bans Gene Simmons For Life For Haras...</td>\n",
       "      <td>gene simmon 68yearold kiss bassist colead sing...</td>\n",
       "      <td>News</td>\n",
       "      <td>22-Nov-17</td>\n",
       "      <td>0</td>\n",
       "    </tr>\n",
       "    <tr>\n",
       "      <td>145</td>\n",
       "      <td>Republican Representative Farenthold will not ...</td>\n",
       "      <td>austin texaswashington reuter us republican re...</td>\n",
       "      <td>politicsNews</td>\n",
       "      <td>14-Dec-17</td>\n",
       "      <td>1</td>\n",
       "    </tr>\n",
       "    <tr>\n",
       "      <td>9</td>\n",
       "      <td>WATCH: Brand-New Pro-Trump Ad Features So Muc...</td>\n",
       "      <td>might thought get break watch peopl kiss donal...</td>\n",
       "      <td>News</td>\n",
       "      <td>21-Dec-17</td>\n",
       "      <td>0</td>\n",
       "    </tr>\n",
       "  </tbody>\n",
       "</table>\n",
       "<p>398 rows × 5 columns</p>\n",
       "</div>"
      ],
      "text/plain": [
       "                                                 title  \\\n",
       "16   U.S. lawmakers question businessman at 2016 Tr...   \n",
       "190   Melania Trump Hit With SERIOUS Side-Eye After...   \n",
       "158  Kentucky lawmaker a 'probable suicide' amid se...   \n",
       "49   Spy chiefs pressure Congress to renew expiring...   \n",
       "131   WATCH: Republican Lawmaker Claims Forcing Wom...   \n",
       "..                                                 ...   \n",
       "142  Republican governors meet with Pence over NAFT...   \n",
       "102  Republican Senator Collins says she will vote ...   \n",
       "75    Fox News Bans Gene Simmons For Life For Haras...   \n",
       "145  Republican Representative Farenthold will not ...   \n",
       "9     WATCH: Brand-New Pro-Trump Ad Features So Muc...   \n",
       "\n",
       "                                                  text       subject  \\\n",
       "16   washington reuter georgianamerican businessman...  politicsNews   \n",
       "190  notic one associ trump administr includ donald...          News   \n",
       "158  reuter kentucki state repres dan johnson face ...  politicsNews   \n",
       "49   washington reuter leader us intellig commun th...  politicsNews   \n",
       "131  maniac want handmaid tale becom realityabort p...          News   \n",
       "..                                                 ...           ...   \n",
       "142  washington reuter republican governor four us ...  politicsNews   \n",
       "102  washington reuter republican us senat susan co...  politicsNews   \n",
       "75   gene simmon 68yearold kiss bassist colead sing...          News   \n",
       "145  austin texaswashington reuter us republican re...  politicsNews   \n",
       "9    might thought get break watch peopl kiss donal...          News   \n",
       "\n",
       "          date actual_result  \n",
       "16   27-Dec-17             1  \n",
       "190  24-Oct-17             0  \n",
       "158  14-Dec-17             1  \n",
       "49   21-Dec-17             1  \n",
       "131   6-Nov-17             0  \n",
       "..         ...           ...  \n",
       "142  14-Dec-17             1  \n",
       "102  18-Dec-17             1  \n",
       "75   22-Nov-17             0  \n",
       "145  14-Dec-17             1  \n",
       "9    21-Dec-17             0  \n",
       "\n",
       "[398 rows x 5 columns]"
      ]
     },
     "execution_count": 38,
     "metadata": {},
     "output_type": "execute_result"
    }
   ],
   "source": [
    "combine"
   ]
  },
  {
   "cell_type": "code",
   "execution_count": 39,
   "metadata": {},
   "outputs": [
    {
     "data": {
      "text/html": [
       "<div>\n",
       "<style scoped>\n",
       "    .dataframe tbody tr th:only-of-type {\n",
       "        vertical-align: middle;\n",
       "    }\n",
       "\n",
       "    .dataframe tbody tr th {\n",
       "        vertical-align: top;\n",
       "    }\n",
       "\n",
       "    .dataframe thead th {\n",
       "        text-align: right;\n",
       "    }\n",
       "</style>\n",
       "<table border=\"1\" class=\"dataframe\">\n",
       "  <thead>\n",
       "    <tr style=\"text-align: right;\">\n",
       "      <th></th>\n",
       "      <th>title</th>\n",
       "      <th>text</th>\n",
       "      <th>subject</th>\n",
       "      <th>date</th>\n",
       "      <th>actual_result</th>\n",
       "    </tr>\n",
       "  </thead>\n",
       "  <tbody>\n",
       "    <tr>\n",
       "      <td>count</td>\n",
       "      <td>398</td>\n",
       "      <td>398</td>\n",
       "      <td>398</td>\n",
       "      <td>398</td>\n",
       "      <td>398</td>\n",
       "    </tr>\n",
       "    <tr>\n",
       "      <td>unique</td>\n",
       "      <td>398</td>\n",
       "      <td>397</td>\n",
       "      <td>2</td>\n",
       "      <td>71</td>\n",
       "      <td>2</td>\n",
       "    </tr>\n",
       "    <tr>\n",
       "      <td>top</td>\n",
       "      <td>Trump Only Cares About Trump; Why He Is Recog...</td>\n",
       "      <td>reuter republican us congress reach deal final...</td>\n",
       "      <td>News</td>\n",
       "      <td>13-Dec-17</td>\n",
       "      <td>0</td>\n",
       "    </tr>\n",
       "    <tr>\n",
       "      <td>freq</td>\n",
       "      <td>1</td>\n",
       "      <td>2</td>\n",
       "      <td>199</td>\n",
       "      <td>29</td>\n",
       "      <td>199</td>\n",
       "    </tr>\n",
       "  </tbody>\n",
       "</table>\n",
       "</div>"
      ],
      "text/plain": [
       "                                                    title  \\\n",
       "count                                                 398   \n",
       "unique                                                398   \n",
       "top      Trump Only Cares About Trump; Why He Is Recog...   \n",
       "freq                                                    1   \n",
       "\n",
       "                                                     text subject       date  \\\n",
       "count                                                 398     398        398   \n",
       "unique                                                397       2         71   \n",
       "top     reuter republican us congress reach deal final...    News  13-Dec-17   \n",
       "freq                                                    2     199         29   \n",
       "\n",
       "       actual_result  \n",
       "count            398  \n",
       "unique             2  \n",
       "top                0  \n",
       "freq             199  "
      ]
     },
     "execution_count": 39,
     "metadata": {},
     "output_type": "execute_result"
    }
   ],
   "source": [
    "combine.describe()"
   ]
  },
  {
   "cell_type": "code",
   "execution_count": null,
   "metadata": {},
   "outputs": [],
   "source": []
  },
  {
   "cell_type": "code",
   "execution_count": 117,
   "metadata": {},
   "outputs": [
    {
     "data": {
      "text/plain": [
       "array([1, 0, 1, 1, 0, 0, 0, 1, 0, 1, 0, 1, 0, 1, 0, 0, 0, 0, 1, 1, 0, 1,\n",
       "       0, 0, 1, 1, 1, 1, 0, 0, 1, 1, 0, 1, 1, 0, 1, 1, 0, 0, 1, 1, 0, 0,\n",
       "       0, 0, 0, 0, 1, 1, 0, 0, 0, 0, 0, 0, 1, 0, 0, 0, 0, 0, 1, 1, 1, 1,\n",
       "       1, 0, 1, 0, 1, 0, 1, 1, 0, 0, 0, 1, 1, 0, 1, 1, 0, 1, 0, 0, 1, 1,\n",
       "       0, 1, 0, 0, 0, 0, 0, 1, 0, 1, 0, 1, 0, 1, 1, 1, 0, 0, 0, 0, 0, 1,\n",
       "       1, 1, 1, 0, 1, 1, 0, 0, 1, 0, 0, 0, 1, 1, 1, 1, 0, 0, 0, 1, 0, 0,\n",
       "       1, 0, 0, 0, 1, 0, 0, 1, 1, 1, 0, 1, 0, 1, 0, 1, 1, 1, 0, 0, 0, 1,\n",
       "       1, 1, 0, 1, 0, 0, 1, 0, 1, 1, 1, 1, 0, 1, 1, 1, 1, 1, 0, 0, 0, 1,\n",
       "       1, 1, 0, 1, 0, 0, 1, 1, 1, 1, 0, 1, 1, 0, 0, 1, 0, 0, 1, 1, 1, 0,\n",
       "       0, 0, 1, 0, 0, 1, 1, 0, 0, 0, 0, 1, 1, 0, 1, 1, 1, 0, 0, 0, 1, 1,\n",
       "       0, 0, 1, 0, 1, 0, 0, 0, 1, 1, 0, 0, 1, 1, 0, 0, 0, 1, 1, 1, 0, 1,\n",
       "       0, 0, 0, 0, 1, 1, 0, 1, 0, 1, 0, 1, 0, 1, 0, 1, 0, 1, 0, 0, 0, 0,\n",
       "       1, 1, 1, 0, 0, 1, 1, 1, 1, 1, 0, 1, 1, 0, 1, 1, 0, 0, 0, 0, 1, 0,\n",
       "       1, 1, 1, 0, 1, 1, 0, 0, 0, 1, 0, 0, 1, 1, 0, 1, 0, 1, 0, 1, 1, 1,\n",
       "       1, 1, 1, 1, 0, 1, 1, 0, 0, 1, 1, 0, 1, 1, 0, 0, 0, 1, 1, 0, 0, 0,\n",
       "       0, 0, 0, 1, 1, 1, 1, 1, 1, 1, 0, 0, 0, 0, 1, 0, 0, 1, 1, 1, 0, 0,\n",
       "       1, 0, 1, 0, 1, 1, 0, 1, 0, 0, 0, 1, 1, 0, 1, 1, 0, 0, 0, 1, 1, 0,\n",
       "       0, 0, 1, 0, 1, 1, 1, 1, 1, 0, 1, 1, 0, 1, 0, 0, 0, 0, 1, 1, 1, 0,\n",
       "       1, 0], dtype=uint8)"
      ]
     },
     "execution_count": 117,
     "metadata": {},
     "output_type": "execute_result"
    }
   ],
   "source": [
    "y=pd.get_dummies(combine['actual_result'])\n",
    "y=y.iloc[:,1].values\n",
    "y"
   ]
  },
  {
   "cell_type": "code",
   "execution_count": 118,
   "metadata": {},
   "outputs": [],
   "source": [
    "from sklearn.feature_extraction.text import CountVectorizer\n",
    "cv=CountVectorizer(max_features=300)\n",
    "X=cv.fit_transform(combine).toarray()"
   ]
  },
  {
   "cell_type": "code",
   "execution_count": null,
   "metadata": {},
   "outputs": [],
   "source": []
  },
  {
   "cell_type": "code",
   "execution_count": 125,
   "metadata": {},
   "outputs": [],
   "source": [
    "import numpy as np"
   ]
  },
  {
   "cell_type": "code",
   "execution_count": 126,
   "metadata": {},
   "outputs": [],
   "source": [
    "def data_split(data,ratio):\n",
    "    shuffled=np.random.permutation(len(data))\n",
    "    test_set_size=int(len(data)*ratio)\n",
    "    test_indices=shuffled[:test_set_size]\n",
    "    train_indices=shuffled[test_set_size:]\n",
    "    return data[train_indices],data[test_indices]"
   ]
  },
  {
   "cell_type": "code",
   "execution_count": 127,
   "metadata": {},
   "outputs": [],
   "source": [
    "train,test=data_split(X,0.4)"
   ]
  },
  {
   "cell_type": "code",
   "execution_count": 128,
   "metadata": {},
   "outputs": [
    {
     "data": {
      "text/plain": [
       "array([[0, 0, 0, 0, 1],\n",
       "       [0, 0, 0, 1, 0],\n",
       "       [0, 1, 0, 0, 0]], dtype=int64)"
      ]
     },
     "execution_count": 128,
     "metadata": {},
     "output_type": "execute_result"
    }
   ],
   "source": [
    "train"
   ]
  },
  {
   "cell_type": "code",
   "execution_count": 133,
   "metadata": {},
   "outputs": [
    {
     "data": {
      "text/plain": [
       "array([[1, 0, 0, 0, 0],\n",
       "       [0, 0, 1, 0, 0]], dtype=int64)"
      ]
     },
     "execution_count": 133,
     "metadata": {},
     "output_type": "execute_result"
    }
   ],
   "source": [
    "test"
   ]
  },
  {
   "cell_type": "code",
   "execution_count": null,
   "metadata": {},
   "outputs": [],
   "source": []
  },
  {
   "cell_type": "code",
   "execution_count": null,
   "metadata": {},
   "outputs": [],
   "source": []
  },
  {
   "cell_type": "code",
   "execution_count": null,
   "metadata": {},
   "outputs": [],
   "source": []
  },
  {
   "cell_type": "code",
   "execution_count": null,
   "metadata": {},
   "outputs": [],
   "source": []
  },
  {
   "cell_type": "code",
   "execution_count": null,
   "metadata": {},
   "outputs": [],
   "source": []
  },
  {
   "cell_type": "code",
   "execution_count": 145,
   "metadata": {},
   "outputs": [
    {
     "name": "stderr",
     "output_type": "stream",
     "text": [
      "D:\\anaconda\\lib\\site-packages\\ipykernel_launcher.py:1: FutureWarning: Using a non-tuple sequence for multidimensional indexing is deprecated; use `arr[tuple(seq)]` instead of `arr[seq]`. In the future this will be interpreted as an array index, `arr[np.array(seq)]`, which will result either in an error or a different result.\n",
      "  \"\"\"Entry point for launching an IPython kernel.\n",
      "D:\\anaconda\\lib\\site-packages\\ipykernel_launcher.py:2: FutureWarning: Using a non-tuple sequence for multidimensional indexing is deprecated; use `arr[tuple(seq)]` instead of `arr[seq]`. In the future this will be interpreted as an array index, `arr[np.array(seq)]`, which will result either in an error or a different result.\n",
      "  \n"
     ]
    }
   ],
   "source": [
    "X_train=train[[X]]\n",
    "X_test=test[[X]]"
   ]
  },
  {
   "cell_type": "code",
   "execution_count": null,
   "metadata": {},
   "outputs": [],
   "source": []
  },
  {
   "cell_type": "code",
   "execution_count": 146,
   "metadata": {},
   "outputs": [
    {
     "name": "stderr",
     "output_type": "stream",
     "text": [
      "D:\\anaconda\\lib\\site-packages\\ipykernel_launcher.py:1: FutureWarning: Using a non-tuple sequence for multidimensional indexing is deprecated; use `arr[tuple(seq)]` instead of `arr[seq]`. In the future this will be interpreted as an array index, `arr[np.array(seq)]`, which will result either in an error or a different result.\n",
      "  \"\"\"Entry point for launching an IPython kernel.\n",
      "D:\\anaconda\\lib\\site-packages\\ipykernel_launcher.py:2: FutureWarning: Using a non-tuple sequence for multidimensional indexing is deprecated; use `arr[tuple(seq)]` instead of `arr[seq]`. In the future this will be interpreted as an array index, `arr[np.array(seq)]`, which will result either in an error or a different result.\n",
      "  \n"
     ]
    }
   ],
   "source": [
    "Y_train=train[[y]]\n",
    "Y_test=test[[y]]"
   ]
  },
  {
   "cell_type": "code",
   "execution_count": null,
   "metadata": {},
   "outputs": [],
   "source": [
    "lr = LogisticRegression()\n",
    "lr.fit(train_dataset,train_labels)\n",
    "\n"
   ]
  },
  {
   "cell_type": "code",
   "execution_count": 143,
   "metadata": {},
   "outputs": [],
   "source": [
    "from sklearn.linear_model import LogisticRegression"
   ]
  },
  {
   "cell_type": "code",
   "execution_count": 156,
   "metadata": {},
   "outputs": [
    {
     "ename": "ValueError",
     "evalue": "not enough values to unpack (expected 3, got 2)",
     "output_type": "error",
     "traceback": [
      "\u001b[1;31m---------------------------------------------------------------------------\u001b[0m",
      "\u001b[1;31mValueError\u001b[0m                                Traceback (most recent call last)",
      "\u001b[1;32m<ipython-input-156-33dc99d92a66>\u001b[0m in \u001b[0;36m<module>\u001b[1;34m\u001b[0m\n\u001b[0;32m      2\u001b[0m \u001b[0mdX\u001b[0m \u001b[1;33m=\u001b[0m \u001b[0mX_train\u001b[0m\u001b[1;33m.\u001b[0m\u001b[0mreshape\u001b[0m\u001b[1;33m(\u001b[0m\u001b[1;33m(\u001b[0m\u001b[0mnsamples\u001b[0m\u001b[1;33m,\u001b[0m\u001b[0mnx\u001b[0m\u001b[1;33m*\u001b[0m\u001b[0mny\u001b[0m\u001b[1;33m)\u001b[0m\u001b[1;33m)\u001b[0m\u001b[1;33m\u001b[0m\u001b[1;33m\u001b[0m\u001b[0m\n\u001b[0;32m      3\u001b[0m \u001b[1;33m\u001b[0m\u001b[0m\n\u001b[1;32m----> 4\u001b[1;33m \u001b[0mnsamples\u001b[0m\u001b[1;33m,\u001b[0m \u001b[0mnx\u001b[0m\u001b[1;33m,\u001b[0m \u001b[0mny\u001b[0m \u001b[1;33m=\u001b[0m \u001b[0mY_train\u001b[0m\u001b[1;33m.\u001b[0m\u001b[0mshape\u001b[0m\u001b[1;33m\u001b[0m\u001b[1;33m\u001b[0m\u001b[0m\n\u001b[0m\u001b[0;32m      5\u001b[0m \u001b[0md\u001b[0m\u001b[1;33m=\u001b[0m \u001b[0mY_train\u001b[0m\u001b[1;33m.\u001b[0m\u001b[0mreshape\u001b[0m\u001b[1;33m(\u001b[0m\u001b[1;33m(\u001b[0m\u001b[0mnsamples\u001b[0m\u001b[1;33m,\u001b[0m\u001b[0mnx\u001b[0m\u001b[1;33m*\u001b[0m\u001b[0mny\u001b[0m\u001b[1;33m)\u001b[0m\u001b[1;33m)\u001b[0m\u001b[1;33m\u001b[0m\u001b[1;33m\u001b[0m\u001b[0m\n\u001b[0;32m      6\u001b[0m \u001b[1;33m\u001b[0m\u001b[0m\n",
      "\u001b[1;31mValueError\u001b[0m: not enough values to unpack (expected 3, got 2)"
     ]
    }
   ],
   "source": [
    "nsamples, nx, ny = X_train.shape\n",
    "dX = X_train.reshape((nsamples,nx*ny))\n",
    "\n",
    "nsamples, nx, ny = Y_train.shape\n",
    "d= Y_train.reshape((nsamples,nx*ny))\n",
    "\n"
   ]
  },
  {
   "cell_type": "code",
   "execution_count": 157,
   "metadata": {},
   "outputs": [
    {
     "ename": "NameError",
     "evalue": "name 'd' is not defined",
     "output_type": "error",
     "traceback": [
      "\u001b[1;31m---------------------------------------------------------------------------\u001b[0m",
      "\u001b[1;31mNameError\u001b[0m                                 Traceback (most recent call last)",
      "\u001b[1;32m<ipython-input-157-31814f45439e>\u001b[0m in \u001b[0;36m<module>\u001b[1;34m\u001b[0m\n\u001b[0;32m      1\u001b[0m \u001b[0mclf\u001b[0m\u001b[1;33m=\u001b[0m\u001b[0mLogisticRegression\u001b[0m\u001b[1;33m(\u001b[0m\u001b[1;33m)\u001b[0m\u001b[1;33m\u001b[0m\u001b[1;33m\u001b[0m\u001b[0m\n\u001b[1;32m----> 2\u001b[1;33m \u001b[0mclf\u001b[0m\u001b[1;33m.\u001b[0m\u001b[0mfit\u001b[0m\u001b[1;33m(\u001b[0m\u001b[0mdX\u001b[0m\u001b[1;33m,\u001b[0m\u001b[0md\u001b[0m\u001b[1;33m)\u001b[0m\u001b[1;33m\u001b[0m\u001b[1;33m\u001b[0m\u001b[0m\n\u001b[0m",
      "\u001b[1;31mNameError\u001b[0m: name 'd' is not defined"
     ]
    }
   ],
   "source": [
    "clf=LogisticRegression()\n",
    "clf.fit(dX,d)"
   ]
  },
  {
   "cell_type": "code",
   "execution_count": null,
   "metadata": {},
   "outputs": [],
   "source": []
  }
 ],
 "metadata": {
  "colab": {
   "collapsed_sections": [],
   "name": "FakeNewsClassification.ipynb",
   "provenance": [],
   "toc_visible": true
  },
  "kernelspec": {
   "display_name": "Python 3",
   "language": "python",
   "name": "python3"
  },
  "language_info": {
   "codemirror_mode": {
    "name": "ipython",
    "version": 3
   },
   "file_extension": ".py",
   "mimetype": "text/x-python",
   "name": "python",
   "nbconvert_exporter": "python",
   "pygments_lexer": "ipython3",
   "version": "3.7.4"
  }
 },
 "nbformat": 4,
 "nbformat_minor": 1
}
